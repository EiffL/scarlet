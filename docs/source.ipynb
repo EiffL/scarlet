{
 "cells": [
  {
   "cell_type": "markdown",
   "metadata": {},
   "source": [
    "# Sources ([scarlet.sources](source.ipynb))"
   ]
  },
  {
   "cell_type": "markdown",
   "metadata": {
    "raw_mimetype": "text/restructuredtext"
   },
   "source": [
    "## Introduction\n",
    "\n",
    "[scarlet.source](source.ipynb) provides classes for creating [Source](source.ipynb#scarlet.source.Source) objects,\n",
    "which represent models for individual astrophysical sources.\n",
    "A [Source](source.ipynb#scarlet.source.Source) is a source in a blend which is usually a single component\n",
    "(a morphology and a single SED) but can also be made up of multiple components, each with it's\n",
    "own SED and morphology."
   ]
  },
  {
   "cell_type": "raw",
   "metadata": {
    "raw_mimetype": "text/restructuredtext"
   },
   "source": [
    ".. warning::\n",
    "\n",
    "    `astropy`_ and `matplotlib`_ are required for the following examples\n",
    "\n",
    ".. _matplotlib: https://matplotlib.org\n",
    ".. _astropy: http://www.astropy.org"
   ]
  },
  {
   "cell_type": "markdown",
   "metadata": {},
   "source": [
    "### The examples below require the test data to be loaded"
   ]
  },
  {
   "cell_type": "code",
   "execution_count": null,
   "metadata": {
    "collapsed": true
   },
   "outputs": [],
   "source": [
    "import numpy as np\n",
    "%matplotlib inline\n",
    "import matplotlib.pyplot as plt\n",
    "import scarlet\n",
    "import scarlet.display\n",
    "\n",
    "# Load the sample images\n",
    "data = np.load(\"../data/test_sim/data.npz\")\n",
    "images = data[\"images\"]\n",
    "filters = data[\"filters\"]\n",
    "\n",
    "# Load the detection catalog\n",
    "from astropy.table import Table as ApTable\n",
    "catalog = ApTable.read(\"../data/test_sim/true_catalog.fits\")\n",
    "bg_rms = np.array([20]*len(images))\n",
    "\n",
    "asinh = scarlet.display.Asinh(img=images)"
   ]
  },
  {
   "cell_type": "markdown",
   "metadata": {},
   "source": [
    "## Getting Started\n",
    "Typically a new source class inherits from the [Source](source.ipynb#scarlet.source.Source) base class with a specific set of constraints (see [constraints](constraints.ipynb) and an initialization function.\n",
    "\n",
    "### ExtendedSource\n",
    "[ExtendedSource](source.ipynb#scarlet.source.ExtendedSource) is a [Source](source.ipynb#scarlet.source.Source) that can be initialized to be symmetric and/or monotonoically decreasing in flux from the pixel at the center of the source.\n",
    "\n",
    "For example:"
   ]
  },
  {
   "cell_type": "code",
   "execution_count": null,
   "metadata": {
    "scrolled": false
   },
   "outputs": [],
   "source": [
    "# Initialize the sources\n",
    "sources = [scarlet.source.ExtendedSource((src['y'],src['x']), images, bg_rms) for src in catalog]\n",
    "\n",
    "# Display the sources\n",
    "def display_sources(sources, subset=[1,3,4]):\n",
    "    # Only show a few of the peaks, for illustrative purposes\n",
    "    for m in subset:\n",
    "        # Load the initial source model\n",
    "        src = sources[m]\n",
    "        model = src.get_model()\n",
    "        # Convert the model to an RGB image\n",
    "        rgb = scarlet.display.img_to_rgb(model, filter_indices=[3,2,1], norm=asinh)\n",
    "        # Select the image patch the overlaps with the source and convert it to an RGB image\n",
    "        _rgb = scarlet.display.img_to_rgb(images[src.bb], filter_indices=[3,2,1], norm=asinh)\n",
    "        # Display the image and model\n",
    "        fig = plt.figure(figsize=(6,3))\n",
    "        ax = [fig.add_subplot(1,2,n+1) for n in range(2)]\n",
    "        ax[0].imshow(_rgb)\n",
    "        ax[0].set_title(\"Data\")\n",
    "        ax[1].imshow(rgb)\n",
    "        ax[1].set_title(\"Initial Model\")\n",
    "        # Mark the current source in the image\n",
    "        y,x = src.center\n",
    "        ax[0].plot(x-src.bb[2].start, y-src.bb[1].start, 'wx', mew=2)\n",
    "        plt.show()\n",
    "\n",
    "display_sources(sources)"
   ]
  },
  {
   "cell_type": "markdown",
   "metadata": {},
   "source": [
    "By default, an [ExtendedSource](source.ipynb#scarlet.source.ExtendedSource) is constrained to be both symmetric and strictly monotonic but can be initialized with an constraint.\n",
    "\n",
    "For example, we can initialize an extended source with no symmetry constraint but include an L0 (sparsity) penalty, however additional constraints (like sparsity) are only included during fitting, not in the initial model."
   ]
  },
  {
   "cell_type": "code",
   "execution_count": null,
   "metadata": {},
   "outputs": [],
   "source": [
    "import scarlet.constraints as sc\n",
    "# Notice that symmetry is turned off\n",
    "constraints = (\n",
    "    sc.SimpleConstraint() & # Normalize SED to unity\n",
    "    sc.DirectMonotonicityConstraint(use_nearest=False) & # Weighted strict monotonicity\n",
    "    sc.L0Constraint(0.1) # L0 norm\n",
    ")\n",
    "sources = [scarlet.source.ExtendedSource((src['y'],src['x']), images, bg_rms, symmetric=False, constraints=constraints) for src in catalog]\n",
    "display_sources(sources)"
   ]
  },
  {
   "cell_type": "markdown",
   "metadata": {},
   "source": [
    "See [constraints](constraints.ipynb) for more on constraints"
   ]
  },
  {
   "cell_type": "markdown",
   "metadata": {},
   "source": [
    "### PointSource\n",
    "We can also initialize a source as a simple [PointSource](source.ipynb#scarlet.source.PointSource), which initializes each source with the SED (normalized to unity) at the location of the peak and the morphology of only a few pixels around the central (peak) pixel. Point sources also require a minimum shape to intialize the source with, although the size of the box is allowed to grow (see [scarlet.blend](blend.rst) for more on box sizing).\n",
    "\n",
    "For example:"
   ]
  },
  {
   "cell_type": "code",
   "execution_count": null,
   "metadata": {},
   "outputs": [],
   "source": [
    "sources = [scarlet.source.PointSource((src['y'],src['x']), images, (15,15)) for src in catalog]\n",
    "display_sources(sources)"
   ]
  },
  {
   "cell_type": "markdown",
   "metadata": {},
   "source": [
    "## Custom Sources\n",
    "It may also be advantageous to create your own custom source initializations and constraints. For example, grand design spirals are neither monotonic nor symmetric and require less restrictive (or at the very least different) constraints.\n",
    "\n",
    "To create your own source class you can just inherit from [Source](source.ipynb#scarlet.source.Source), for example:"
   ]
  },
  {
   "cell_type": "code",
   "execution_count": null,
   "metadata": {
    "collapsed": true
   },
   "outputs": [],
   "source": [
    "class MySource(scarlet.Source):\n",
    "    def __init__(self, *args, **kwargs):\n",
    "        # determine the initial sed and morphology, center, constraints\n",
    "        # then construct the source, e.g:\n",
    "        super(MySource, self).__init__(sed, morph, center=center, constraints=constraints,\n",
    "                                       psf=psf, fix_sed=False, fix_morph=False, fix_frame=False, shift_center=0.2)\n"
   ]
  },
  {
   "cell_type": "raw",
   "metadata": {
    "raw_mimetype": "text/restructuredtext"
   },
   "source": [
    "Reference/API\n",
    "-------------\n",
    ".. automodule:: scarlet.source\n",
    "    :members:"
   ]
  },
  {
   "cell_type": "code",
   "execution_count": null,
   "metadata": {
    "collapsed": true
   },
   "outputs": [],
   "source": []
  }
 ],
 "metadata": {
  "celltoolbar": "Raw Cell Format",
  "kernelspec": {
   "display_name": "Python 3",
   "language": "python",
   "name": "python3"
  },
  "language_info": {
   "codemirror_mode": {
    "name": "ipython",
    "version": 3
   },
   "file_extension": ".py",
   "mimetype": "text/x-python",
   "name": "python",
   "nbconvert_exporter": "python",
   "pygments_lexer": "ipython3",
   "version": "3.6.2"
  }
 },
 "nbformat": 4,
 "nbformat_minor": 2
}
